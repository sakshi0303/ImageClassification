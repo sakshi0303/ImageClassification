{
  "cells": [
    {
      "cell_type": "markdown",
      "metadata": {
        "id": "view-in-github",
        "colab_type": "text"
      },
      "source": [
        "<a href=\"https://colab.research.google.com/github/sakshi0303/ImageClassification/blob/main/Model9_epochlimit(30)%2B_number_of_neuron_%3D100%2C200%2C300%2C200%2C100%2Cshape_of_conv2d%3D(128%2C128%2C1)%2Cmulti_layer(5).ipynb\" target=\"_parent\"><img src=\"https://colab.research.google.com/assets/colab-badge.svg\" alt=\"Open In Colab\"/></a>"
      ]
    },
    {
      "cell_type": "markdown",
      "source": [
        "**Model9:** \n",
        "\n",
        "-Number of neurons=200,300,100,200,300\n",
        "\n",
        "-Shape of conv2d=(128,128,1)\n",
        "\n",
        "-Multi-layer=5\n"
      ],
      "metadata": {
        "id": "DQytywjXO11l"
      }
    },
    {
      "cell_type": "code",
      "execution_count": null,
      "metadata": {
        "colab": {
          "base_uri": "https://localhost:8080/"
        },
        "id": "vDjZ0QChTmt5",
        "outputId": "429b3ab5-5af3-47cf-9af9-687121c27ce0"
      },
      "outputs": [
        {
          "output_type": "stream",
          "name": "stdout",
          "text": [
            "Looking in indexes: https://pypi.org/simple, https://us-python.pkg.dev/colab-wheels/public/simple/\n",
            "Requirement already satisfied: keras in /usr/local/lib/python3.7/dist-packages (2.8.0)\n"
          ]
        }
      ],
      "source": [
        "!pip install keras"
      ]
    },
    {
      "cell_type": "code",
      "execution_count": null,
      "metadata": {
        "id": "AC4m3ZrdoMAn"
      },
      "outputs": [],
      "source": [
        "# #keras deep neural network, owned by google (pytorch is invented by facebbok)\n",
        "# !pip install q keras==2.3.1"
      ]
    },
    {
      "cell_type": "code",
      "execution_count": null,
      "metadata": {
        "colab": {
          "base_uri": "https://localhost:8080/"
        },
        "id": "VzyCCUXgToJn",
        "outputId": "eb771ea4-ccd3-4593-a963-28217531d1a6"
      },
      "outputs": [
        {
          "output_type": "stream",
          "name": "stdout",
          "text": [
            "Looking in indexes: https://pypi.org/simple, https://us-python.pkg.dev/colab-wheels/public/simple/\n",
            "Requirement already satisfied: tensorflow in /usr/local/lib/python3.7/dist-packages (2.8.2+zzzcolab20220929150707)\n",
            "Requirement already satisfied: numpy>=1.20 in /usr/local/lib/python3.7/dist-packages (from tensorflow) (1.21.6)\n",
            "Requirement already satisfied: libclang>=9.0.1 in /usr/local/lib/python3.7/dist-packages (from tensorflow) (14.0.6)\n",
            "Requirement already satisfied: google-pasta>=0.1.1 in /usr/local/lib/python3.7/dist-packages (from tensorflow) (0.2.0)\n",
            "Requirement already satisfied: h5py>=2.9.0 in /usr/local/lib/python3.7/dist-packages (from tensorflow) (3.1.0)\n",
            "Requirement already satisfied: protobuf<3.20,>=3.9.2 in /usr/local/lib/python3.7/dist-packages (from tensorflow) (3.17.3)\n",
            "Requirement already satisfied: flatbuffers>=1.12 in /usr/local/lib/python3.7/dist-packages (from tensorflow) (22.9.24)\n",
            "Requirement already satisfied: keras-preprocessing>=1.1.1 in /usr/local/lib/python3.7/dist-packages (from tensorflow) (1.1.2)\n",
            "Requirement already satisfied: six>=1.12.0 in /usr/local/lib/python3.7/dist-packages (from tensorflow) (1.15.0)\n",
            "Requirement already satisfied: tensorflow-io-gcs-filesystem>=0.23.1 in /usr/local/lib/python3.7/dist-packages (from tensorflow) (0.27.0)\n",
            "Requirement already satisfied: typing-extensions>=3.6.6 in /usr/local/lib/python3.7/dist-packages (from tensorflow) (4.1.1)\n",
            "Requirement already satisfied: tensorboard<2.9,>=2.8 in /usr/local/lib/python3.7/dist-packages (from tensorflow) (2.8.0)\n",
            "Requirement already satisfied: grpcio<2.0,>=1.24.3 in /usr/local/lib/python3.7/dist-packages (from tensorflow) (1.49.1)\n",
            "Requirement already satisfied: opt-einsum>=2.3.2 in /usr/local/lib/python3.7/dist-packages (from tensorflow) (3.3.0)\n",
            "Requirement already satisfied: wrapt>=1.11.0 in /usr/local/lib/python3.7/dist-packages (from tensorflow) (1.14.1)\n",
            "Requirement already satisfied: setuptools in /usr/local/lib/python3.7/dist-packages (from tensorflow) (57.4.0)\n",
            "Requirement already satisfied: astunparse>=1.6.0 in /usr/local/lib/python3.7/dist-packages (from tensorflow) (1.6.3)\n",
            "Requirement already satisfied: tensorflow-estimator<2.9,>=2.8 in /usr/local/lib/python3.7/dist-packages (from tensorflow) (2.8.0)\n",
            "Requirement already satisfied: absl-py>=0.4.0 in /usr/local/lib/python3.7/dist-packages (from tensorflow) (1.2.0)\n",
            "Requirement already satisfied: gast>=0.2.1 in /usr/local/lib/python3.7/dist-packages (from tensorflow) (0.5.3)\n",
            "Requirement already satisfied: keras<2.9,>=2.8.0rc0 in /usr/local/lib/python3.7/dist-packages (from tensorflow) (2.8.0)\n",
            "Requirement already satisfied: termcolor>=1.1.0 in /usr/local/lib/python3.7/dist-packages (from tensorflow) (2.0.1)\n",
            "Requirement already satisfied: wheel<1.0,>=0.23.0 in /usr/local/lib/python3.7/dist-packages (from astunparse>=1.6.0->tensorflow) (0.37.1)\n",
            "Requirement already satisfied: cached-property in /usr/local/lib/python3.7/dist-packages (from h5py>=2.9.0->tensorflow) (1.5.2)\n",
            "Requirement already satisfied: werkzeug>=0.11.15 in /usr/local/lib/python3.7/dist-packages (from tensorboard<2.9,>=2.8->tensorflow) (1.0.1)\n",
            "Requirement already satisfied: requests<3,>=2.21.0 in /usr/local/lib/python3.7/dist-packages (from tensorboard<2.9,>=2.8->tensorflow) (2.23.0)\n",
            "Requirement already satisfied: google-auth<3,>=1.6.3 in /usr/local/lib/python3.7/dist-packages (from tensorboard<2.9,>=2.8->tensorflow) (1.35.0)\n",
            "Requirement already satisfied: tensorboard-data-server<0.7.0,>=0.6.0 in /usr/local/lib/python3.7/dist-packages (from tensorboard<2.9,>=2.8->tensorflow) (0.6.1)\n",
            "Requirement already satisfied: markdown>=2.6.8 in /usr/local/lib/python3.7/dist-packages (from tensorboard<2.9,>=2.8->tensorflow) (3.4.1)\n",
            "Requirement already satisfied: google-auth-oauthlib<0.5,>=0.4.1 in /usr/local/lib/python3.7/dist-packages (from tensorboard<2.9,>=2.8->tensorflow) (0.4.6)\n",
            "Requirement already satisfied: tensorboard-plugin-wit>=1.6.0 in /usr/local/lib/python3.7/dist-packages (from tensorboard<2.9,>=2.8->tensorflow) (1.8.1)\n",
            "Requirement already satisfied: pyasn1-modules>=0.2.1 in /usr/local/lib/python3.7/dist-packages (from google-auth<3,>=1.6.3->tensorboard<2.9,>=2.8->tensorflow) (0.2.8)\n",
            "Requirement already satisfied: rsa<5,>=3.1.4 in /usr/local/lib/python3.7/dist-packages (from google-auth<3,>=1.6.3->tensorboard<2.9,>=2.8->tensorflow) (4.9)\n",
            "Requirement already satisfied: cachetools<5.0,>=2.0.0 in /usr/local/lib/python3.7/dist-packages (from google-auth<3,>=1.6.3->tensorboard<2.9,>=2.8->tensorflow) (4.2.4)\n",
            "Requirement already satisfied: requests-oauthlib>=0.7.0 in /usr/local/lib/python3.7/dist-packages (from google-auth-oauthlib<0.5,>=0.4.1->tensorboard<2.9,>=2.8->tensorflow) (1.3.1)\n",
            "Requirement already satisfied: importlib-metadata>=4.4 in /usr/local/lib/python3.7/dist-packages (from markdown>=2.6.8->tensorboard<2.9,>=2.8->tensorflow) (5.0.0)\n",
            "Requirement already satisfied: zipp>=0.5 in /usr/local/lib/python3.7/dist-packages (from importlib-metadata>=4.4->markdown>=2.6.8->tensorboard<2.9,>=2.8->tensorflow) (3.8.1)\n",
            "Requirement already satisfied: pyasn1<0.5.0,>=0.4.6 in /usr/local/lib/python3.7/dist-packages (from pyasn1-modules>=0.2.1->google-auth<3,>=1.6.3->tensorboard<2.9,>=2.8->tensorflow) (0.4.8)\n",
            "Requirement already satisfied: chardet<4,>=3.0.2 in /usr/local/lib/python3.7/dist-packages (from requests<3,>=2.21.0->tensorboard<2.9,>=2.8->tensorflow) (3.0.4)\n",
            "Requirement already satisfied: idna<3,>=2.5 in /usr/local/lib/python3.7/dist-packages (from requests<3,>=2.21.0->tensorboard<2.9,>=2.8->tensorflow) (2.10)\n",
            "Requirement already satisfied: certifi>=2017.4.17 in /usr/local/lib/python3.7/dist-packages (from requests<3,>=2.21.0->tensorboard<2.9,>=2.8->tensorflow) (2022.9.24)\n",
            "Requirement already satisfied: urllib3!=1.25.0,!=1.25.1,<1.26,>=1.21.1 in /usr/local/lib/python3.7/dist-packages (from requests<3,>=2.21.0->tensorboard<2.9,>=2.8->tensorflow) (1.24.3)\n",
            "Requirement already satisfied: oauthlib>=3.0.0 in /usr/local/lib/python3.7/dist-packages (from requests-oauthlib>=0.7.0->google-auth-oauthlib<0.5,>=0.4.1->tensorboard<2.9,>=2.8->tensorflow) (3.2.1)\n"
          ]
        }
      ],
      "source": [
        "!pip install tensorflow"
      ]
    },
    {
      "cell_type": "code",
      "execution_count": null,
      "metadata": {
        "colab": {
          "base_uri": "https://localhost:8080/"
        },
        "id": "9Rh32pttxQtB",
        "outputId": "d0b973af-c1a5-4549-9232-be033e02d118"
      },
      "outputs": [
        {
          "output_type": "stream",
          "name": "stdout",
          "text": [
            "2.8.2\n"
          ]
        }
      ],
      "source": [
        "import tensorflow as tf\n",
        "print(tf.__version__)"
      ]
    },
    {
      "cell_type": "code",
      "execution_count": null,
      "metadata": {
        "id": "KeGXPCJtopF2"
      },
      "outputs": [],
      "source": [
        "from ast import increment_lineno\n",
        "#importing Libraries\n",
        "\n",
        "import numpy as np \n",
        "import pandas as pd \n",
        "import os\n",
        "\n",
        "#high quality image has high intensity of color, color of matrix are represented by rbg matrix\n",
        "import random # for geeneratiing images\n",
        "\n",
        "#data virtulisation \n",
        "import matplotlib.image as mpimg \n",
        "import matplotlib.pyplot as plt\n",
        "import seaborn as sns\n",
        "import cv2 # for vision related proessing\n",
        "\n",
        "#importing tensor-flow for model creation and its dependencies\n",
        "import tensorflow\n",
        "\n",
        "#generate batches of tensor image data with real time data augumentation\n",
        "from keras.preprocessing.image import ImageDataGenerator\n",
        "from glob import glob\n",
        "\n",
        "# for enabling inline processing\n",
        "%matplotlib inline\n",
        "\n",
        "\n"
      ]
    },
    {
      "cell_type": "code",
      "execution_count": null,
      "metadata": {
        "id": "RK3Yf4vgQyjZ"
      },
      "outputs": [],
      "source": [
        "#for accessing  mydrive  data mount on googlecolab \n",
        "import cv2\n",
        "from google.colab.patches import cv2_imshow"
      ]
    },
    {
      "cell_type": "code",
      "execution_count": null,
      "metadata": {
        "id": "0xoHRUJ9XLwy"
      },
      "outputs": [],
      "source": [
        "import tensorflow as tf\n",
        "from tensorflow.keras import datasets,layers,models\n"
      ]
    },
    {
      "cell_type": "code",
      "execution_count": null,
      "metadata": {
        "id": "2P1apIKaZ1hS"
      },
      "outputs": [],
      "source": [
        "! pip install -q kaggle\n"
      ]
    },
    {
      "cell_type": "markdown",
      "metadata": {
        "id": "or9Yx2vbbJcC"
      },
      "source": [
        "#Importing kaggle dataset directly to cobal notebook\n",
        "\n",
        "Please follow the steps below to download and use kaggle data within Google Colab:\n",
        "1. Go to your account, Scroll to API section and Click Expire API Token to remove previous tokens\n",
        "2. Click on Create New API Token - It will download kaggle.json file on your machine.\n",
        "3. In Google Colab textbook run following commands:\n",
        "  1. ! pip install -q kaggle\n",
        "  2. from google.colab import files\n",
        "    files.upload()\n",
        "    Choose the kaggle.json file that you downloaded\n",
        "  3. ! mkdir ~/.kaggle\n",
        "  4. ! cp kaggle.json ~/.kaggle/\n",
        "    Make directory named kaggle and copy kaggle.json file there.\n",
        "  5. ! chmod 600 ~/.kaggle/kaggle.json\n",
        "    Change the permissions of the file.\n",
        "  6. ! kaggle datasets list\n",
        "\n",
        "reference:https://www.kaggle.com/general/74235"
      ]
    },
    {
      "cell_type": "code",
      "execution_count": null,
      "metadata": {
        "id": "BelQdWiXZ9Oy"
      },
      "outputs": [],
      "source": [
        "from google.colab import files"
      ]
    },
    {
      "cell_type": "code",
      "execution_count": null,
      "metadata": {
        "colab": {
          "base_uri": "https://localhost:8080/",
          "height": 90
        },
        "id": "yEPtvhgEajtm",
        "outputId": "dd36574e-43ca-4fdb-e2b5-c8c6a7433ee3"
      },
      "outputs": [
        {
          "output_type": "display_data",
          "data": {
            "text/plain": [
              "<IPython.core.display.HTML object>"
            ],
            "text/html": [
              "\n",
              "     <input type=\"file\" id=\"files-c479111c-fc2c-40ac-a07b-2b35e5fd2590\" name=\"files[]\" multiple disabled\n",
              "        style=\"border:none\" />\n",
              "     <output id=\"result-c479111c-fc2c-40ac-a07b-2b35e5fd2590\">\n",
              "      Upload widget is only available when the cell has been executed in the\n",
              "      current browser session. Please rerun this cell to enable.\n",
              "      </output>\n",
              "      <script>// Copyright 2017 Google LLC\n",
              "//\n",
              "// Licensed under the Apache License, Version 2.0 (the \"License\");\n",
              "// you may not use this file except in compliance with the License.\n",
              "// You may obtain a copy of the License at\n",
              "//\n",
              "//      http://www.apache.org/licenses/LICENSE-2.0\n",
              "//\n",
              "// Unless required by applicable law or agreed to in writing, software\n",
              "// distributed under the License is distributed on an \"AS IS\" BASIS,\n",
              "// WITHOUT WARRANTIES OR CONDITIONS OF ANY KIND, either express or implied.\n",
              "// See the License for the specific language governing permissions and\n",
              "// limitations under the License.\n",
              "\n",
              "/**\n",
              " * @fileoverview Helpers for google.colab Python module.\n",
              " */\n",
              "(function(scope) {\n",
              "function span(text, styleAttributes = {}) {\n",
              "  const element = document.createElement('span');\n",
              "  element.textContent = text;\n",
              "  for (const key of Object.keys(styleAttributes)) {\n",
              "    element.style[key] = styleAttributes[key];\n",
              "  }\n",
              "  return element;\n",
              "}\n",
              "\n",
              "// Max number of bytes which will be uploaded at a time.\n",
              "const MAX_PAYLOAD_SIZE = 100 * 1024;\n",
              "\n",
              "function _uploadFiles(inputId, outputId) {\n",
              "  const steps = uploadFilesStep(inputId, outputId);\n",
              "  const outputElement = document.getElementById(outputId);\n",
              "  // Cache steps on the outputElement to make it available for the next call\n",
              "  // to uploadFilesContinue from Python.\n",
              "  outputElement.steps = steps;\n",
              "\n",
              "  return _uploadFilesContinue(outputId);\n",
              "}\n",
              "\n",
              "// This is roughly an async generator (not supported in the browser yet),\n",
              "// where there are multiple asynchronous steps and the Python side is going\n",
              "// to poll for completion of each step.\n",
              "// This uses a Promise to block the python side on completion of each step,\n",
              "// then passes the result of the previous step as the input to the next step.\n",
              "function _uploadFilesContinue(outputId) {\n",
              "  const outputElement = document.getElementById(outputId);\n",
              "  const steps = outputElement.steps;\n",
              "\n",
              "  const next = steps.next(outputElement.lastPromiseValue);\n",
              "  return Promise.resolve(next.value.promise).then((value) => {\n",
              "    // Cache the last promise value to make it available to the next\n",
              "    // step of the generator.\n",
              "    outputElement.lastPromiseValue = value;\n",
              "    return next.value.response;\n",
              "  });\n",
              "}\n",
              "\n",
              "/**\n",
              " * Generator function which is called between each async step of the upload\n",
              " * process.\n",
              " * @param {string} inputId Element ID of the input file picker element.\n",
              " * @param {string} outputId Element ID of the output display.\n",
              " * @return {!Iterable<!Object>} Iterable of next steps.\n",
              " */\n",
              "function* uploadFilesStep(inputId, outputId) {\n",
              "  const inputElement = document.getElementById(inputId);\n",
              "  inputElement.disabled = false;\n",
              "\n",
              "  const outputElement = document.getElementById(outputId);\n",
              "  outputElement.innerHTML = '';\n",
              "\n",
              "  const pickedPromise = new Promise((resolve) => {\n",
              "    inputElement.addEventListener('change', (e) => {\n",
              "      resolve(e.target.files);\n",
              "    });\n",
              "  });\n",
              "\n",
              "  const cancel = document.createElement('button');\n",
              "  inputElement.parentElement.appendChild(cancel);\n",
              "  cancel.textContent = 'Cancel upload';\n",
              "  const cancelPromise = new Promise((resolve) => {\n",
              "    cancel.onclick = () => {\n",
              "      resolve(null);\n",
              "    };\n",
              "  });\n",
              "\n",
              "  // Wait for the user to pick the files.\n",
              "  const files = yield {\n",
              "    promise: Promise.race([pickedPromise, cancelPromise]),\n",
              "    response: {\n",
              "      action: 'starting',\n",
              "    }\n",
              "  };\n",
              "\n",
              "  cancel.remove();\n",
              "\n",
              "  // Disable the input element since further picks are not allowed.\n",
              "  inputElement.disabled = true;\n",
              "\n",
              "  if (!files) {\n",
              "    return {\n",
              "      response: {\n",
              "        action: 'complete',\n",
              "      }\n",
              "    };\n",
              "  }\n",
              "\n",
              "  for (const file of files) {\n",
              "    const li = document.createElement('li');\n",
              "    li.append(span(file.name, {fontWeight: 'bold'}));\n",
              "    li.append(span(\n",
              "        `(${file.type || 'n/a'}) - ${file.size} bytes, ` +\n",
              "        `last modified: ${\n",
              "            file.lastModifiedDate ? file.lastModifiedDate.toLocaleDateString() :\n",
              "                                    'n/a'} - `));\n",
              "    const percent = span('0% done');\n",
              "    li.appendChild(percent);\n",
              "\n",
              "    outputElement.appendChild(li);\n",
              "\n",
              "    const fileDataPromise = new Promise((resolve) => {\n",
              "      const reader = new FileReader();\n",
              "      reader.onload = (e) => {\n",
              "        resolve(e.target.result);\n",
              "      };\n",
              "      reader.readAsArrayBuffer(file);\n",
              "    });\n",
              "    // Wait for the data to be ready.\n",
              "    let fileData = yield {\n",
              "      promise: fileDataPromise,\n",
              "      response: {\n",
              "        action: 'continue',\n",
              "      }\n",
              "    };\n",
              "\n",
              "    // Use a chunked sending to avoid message size limits. See b/62115660.\n",
              "    let position = 0;\n",
              "    do {\n",
              "      const length = Math.min(fileData.byteLength - position, MAX_PAYLOAD_SIZE);\n",
              "      const chunk = new Uint8Array(fileData, position, length);\n",
              "      position += length;\n",
              "\n",
              "      const base64 = btoa(String.fromCharCode.apply(null, chunk));\n",
              "      yield {\n",
              "        response: {\n",
              "          action: 'append',\n",
              "          file: file.name,\n",
              "          data: base64,\n",
              "        },\n",
              "      };\n",
              "\n",
              "      let percentDone = fileData.byteLength === 0 ?\n",
              "          100 :\n",
              "          Math.round((position / fileData.byteLength) * 100);\n",
              "      percent.textContent = `${percentDone}% done`;\n",
              "\n",
              "    } while (position < fileData.byteLength);\n",
              "  }\n",
              "\n",
              "  // All done.\n",
              "  yield {\n",
              "    response: {\n",
              "      action: 'complete',\n",
              "    }\n",
              "  };\n",
              "}\n",
              "\n",
              "scope.google = scope.google || {};\n",
              "scope.google.colab = scope.google.colab || {};\n",
              "scope.google.colab._files = {\n",
              "  _uploadFiles,\n",
              "  _uploadFilesContinue,\n",
              "};\n",
              "})(self);\n",
              "</script> "
            ]
          },
          "metadata": {}
        },
        {
          "output_type": "stream",
          "name": "stdout",
          "text": [
            "Saving kaggle.json to kaggle (1).json\n"
          ]
        },
        {
          "output_type": "execute_result",
          "data": {
            "text/plain": [
              "{'kaggle.json': b'{\"username\":\"srvsakshi03\",\"key\":\"41190edae2633d15326ff3cf72335b85\"}'}"
            ]
          },
          "metadata": {},
          "execution_count": 45
        }
      ],
      "source": [
        "files.upload()"
      ]
    },
    {
      "cell_type": "code",
      "execution_count": null,
      "metadata": {
        "id": "Wh5yilppbkAO",
        "colab": {
          "base_uri": "https://localhost:8080/"
        },
        "outputId": "bf6be792-20c3-4611-da2b-41b8bf90ff56"
      },
      "outputs": [
        {
          "output_type": "stream",
          "name": "stdout",
          "text": [
            "mkdir: cannot create directory ‘/root/.kaggle’: File exists\n"
          ]
        }
      ],
      "source": [
        "! mkdir ~/.kaggle"
      ]
    },
    {
      "cell_type": "code",
      "execution_count": null,
      "metadata": {
        "id": "LTaaNNRsbwx9"
      },
      "outputs": [],
      "source": [
        "! cp kaggle.json ~/.kaggle/"
      ]
    },
    {
      "cell_type": "code",
      "execution_count": null,
      "metadata": {
        "id": "R5NuLv8Cb46Q"
      },
      "outputs": [],
      "source": [
        "! chmod 600 ~/.kaggle/kaggle.json"
      ]
    },
    {
      "cell_type": "code",
      "execution_count": null,
      "metadata": {
        "colab": {
          "base_uri": "https://localhost:8080/"
        },
        "id": "P4NFfu5RoyFw",
        "outputId": "062666ac-157f-4afa-d3e0-dbd28b95e7de"
      },
      "outputs": [
        {
          "output_type": "stream",
          "name": "stdout",
          "text": [
            "Downloading caltech101-airplanes-motorbikes-schooners.zip to /content/drive/MyDrive/caltech101-airplanes-motorbikes-schooners\n",
            "\r  0% 0.00/14.5M [00:00<?, ?B/s]\r 89% 13.0M/14.5M [00:00<00:00, 129MB/s]\n",
            "\r100% 14.5M/14.5M [00:00<00:00, 138MB/s]\n"
          ]
        }
      ],
      "source": [
        "# #This method helped me to download datasets that are not listed in the kaggle competitions.\n",
        "# !kaggle datasets download -d maricinnamon/caltech101-airplanes-motorbikes-schooners -p /content/sample_data/ --unzip\n",
        "#below method helped me to download datasets that are not listed in the kaggle competitions.\n",
        "!kaggle datasets download -d maricinnamon/caltech101-airplanes-motorbikes-schooners -p /content/drive/MyDrive/caltech101-airplanes-motorbikes-schooners/ --unzip\n"
      ]
    },
    {
      "cell_type": "markdown",
      "source": [
        "refernce:https://pypi.org/project/split-folders/"
      ],
      "metadata": {
        "id": "6pcx3_zwkYY3"
      }
    },
    {
      "cell_type": "code",
      "execution_count": null,
      "metadata": {
        "colab": {
          "base_uri": "https://localhost:8080/"
        },
        "id": "w6YGNykWjwY2",
        "outputId": "4e157efd-e6d1-49cf-d10f-0466c3c0887b"
      },
      "outputs": [
        {
          "output_type": "stream",
          "name": "stdout",
          "text": [
            "Looking in indexes: https://pypi.org/simple, https://us-python.pkg.dev/colab-wheels/public/simple/\n",
            "Requirement already satisfied: split-folders in /usr/local/lib/python3.7/dist-packages (0.5.1)\n"
          ]
        }
      ],
      "source": [
        "pip install split-folders"
      ]
    },
    {
      "cell_type": "code",
      "execution_count": null,
      "metadata": {
        "id": "n1FYobAxlpId"
      },
      "outputs": [],
      "source": [
        "import splitfolders"
      ]
    },
    {
      "cell_type": "code",
      "execution_count": null,
      "metadata": {
        "colab": {
          "base_uri": "https://localhost:8080/"
        },
        "id": "2a87yDdvlsix",
        "outputId": "87bbc264-c44f-4691-b970-434e7ba2b28f"
      },
      "outputs": [
        {
          "output_type": "stream",
          "name": "stderr",
          "text": [
            "Copying files: 1661 files [00:00, 3135.74 files/s]\n"
          ]
        }
      ],
      "source": [
        "splitfolders.ratio(\"/content/drive/MyDrive/caltech101-airplanes-motorbikes-schooners/caltech101_classification\", output=\"/content/drive/MyDrive/caltech101-airplanes-motorbikes-schooners/SplitData\",seed=1337, ratio=(.8, .1, .1), group_prefix=None, move=False)\n"
      ]
    },
    {
      "cell_type": "code",
      "execution_count": null,
      "metadata": {
        "colab": {
          "base_uri": "https://localhost:8080/"
        },
        "id": "8ZONFRs4zuvz",
        "outputId": "71d20b69-7cea-46e6-d466-cb378465c181"
      },
      "outputs": [
        {
          "output_type": "stream",
          "name": "stdout",
          "text": [
            "Found 1328 images belonging to 3 classes.\n",
            "Found 168 images belonging to 3 classes.\n",
            "Found 165 images belonging to 3 classes.\n"
          ]
        }
      ],
      "source": [
        "TrainImagePath='/content/drive/MyDrive/caltech101-airplanes-motorbikes-schooners/SplitData/train'\n",
        "TestImagePath='/content/drive/MyDrive/caltech101-airplanes-motorbikes-schooners/SplitData/test'\n",
        "ValidImagePath='/content/drive/MyDrive/caltech101-airplanes-motorbikes-schooners/SplitData/val'\n",
        "\n",
        "#scale the image down to avoid large computation\n",
        "train_datagenerator= ImageDataGenerator(rescale=1./255, #originally pixel have intensity between 0 to 255, rescaling them to less than 1\n",
        "                                        horizontal_flip=True, # mirror image from one direction to other direction\n",
        "                                        shear_range=0.1, # tilt the angle of image\n",
        "                                        zoom_range=0.1) # zoom in or out\n",
        "\n",
        "#defining preprocessing transformation on testing data\n",
        "test_datagenerator=ImageDataGenerator(rescale=1./255) \n",
        "\n",
        "training_set=train_datagenerator.flow_from_directory(TrainImagePath,target_size=(128,128),batch_size=32, class_mode='categorical')\n",
        "testing_set=test_datagenerator.flow_from_directory(TestImagePath,\n",
        "                                                    target_size=(128,128),\n",
        "                                                    batch_size=32,class_mode='categorical')\n",
        "valid_set=test_datagenerator.flow_from_directory(ValidImagePath,\n",
        "                                                  target_size=(128,128),\n",
        "                                                  batch_size=32,class_mode='categorical')"
      ]
    },
    {
      "cell_type": "code",
      "execution_count": null,
      "metadata": {
        "colab": {
          "base_uri": "https://localhost:8080/"
        },
        "id": "SPzzJVImF9F8",
        "outputId": "23868727-fc72-46fc-e2f9-5e7b24e2245d"
      },
      "outputs": [
        {
          "output_type": "execute_result",
          "data": {
            "text/plain": [
              "{'Motorbikes': 0, 'airplanes': 1, 'schooner': 2}"
            ]
          },
          "metadata": {},
          "execution_count": 56
        }
      ],
      "source": [
        "testing_set.class_indices"
      ]
    },
    {
      "cell_type": "code",
      "execution_count": null,
      "metadata": {
        "colab": {
          "base_uri": "https://localhost:8080/"
        },
        "id": "srbJzJKfwQ6L",
        "outputId": "a05bf4cb-ee81-4487-850b-d13bd7a6fcfe"
      },
      "outputs": [
        {
          "output_type": "stream",
          "name": "stdout",
          "text": [
            "Mapping of face and its ID {0: 'Motorbikes', 1: 'airplanes', 2: 'schooner'}\n",
            "\n",
            " The number of output neurons 3\n"
          ]
        }
      ],
      "source": [
        "TrainClasses=training_set.class_indices\n",
        "\n",
        "#storing numeric tag for future refernce\n",
        "Resultmap={}\n",
        "for ballvalue,ballname in zip(TrainClasses.values(),TrainClasses.keys()):\n",
        "  Resultmap[ballvalue]=ballname\n",
        "\n",
        "import pickle\n",
        "with open(\"/content/drive/MyDrive/caltech101-airplanes-motorbikes-schooners/ResultsMap.pk1\",'wb') as f:\n",
        "  pickle.dump(Resultmap,f,pickle.HIGHEST_PROTOCOL)\n",
        "\n",
        "print(\"Mapping\",Resultmap)\n",
        "\n",
        "OutputNeurons=len(Resultmap)\n",
        "print('\\n The number of output neurons',OutputNeurons)\n"
      ]
    },
    {
      "cell_type": "code",
      "execution_count": null,
      "metadata": {
        "id": "kJKF8r7pNUip"
      },
      "outputs": [],
      "source": [
        "from tensorflow.python.ops.gen_array_ops import shape\n",
        "from tensorflow.python.ops.array_ops import Shape\n",
        "#### Create CNN deep learning model#######\n",
        "from keras.models import Sequential\n",
        "from keras.layers import Convolution2D\n",
        "from keras.layers import MaxPool2D\n",
        "from keras.layers import Flatten\n",
        "from keras.layers import Dense\n",
        "import tensorflow as tf\n",
        "\n",
        "# Some random image\n",
        "image = tf.random.normal( shape=( 128 , 128 , 3 ) )\n",
        "# Remove dimensions of size 1 from `image`\n",
        "image = tf.squeeze( image )\n",
        "# Resize the image\n",
        "\n",
        "resized_image = tf.image.resize( image , size=( 32 ,32 ) )\n",
        "\n",
        "### Initializing the convolutional Neural Network\n",
        "classifier=Sequential() \n",
        "\n",
        "classifier.add(Convolution2D(100,kernel_size=(3,3),strides=(1,1),input_shape=(128,128,3),activation='relu'))\n",
        "classifier.add(MaxPool2D(pool_size=(2,2)))\n",
        "\n",
        "classifier.add(Convolution2D(200,kernel_size=(3,3),strides=(1,1),activation='relu')) \n",
        "classifier.add(MaxPool2D(pool_size=(2,2)))\n",
        "\n",
        "classifier.add(Convolution2D(300,kernel_size=(3,3),strides=(1,1),activation='relu')) \n",
        "classifier.add(MaxPool2D(pool_size=(2,2)))\n",
        "\n",
        "classifier.add(Convolution2D(200,kernel_size=(3,3),strides=(1,1),activation='relu')) \n",
        "classifier.add(MaxPool2D(pool_size=(2,2)))\n",
        "\n",
        "classifier.add(Convolution2D(100,kernel_size=(3,3),strides=(1,1),activation='relu')) \n",
        "classifier.add(MaxPool2D(pool_size=(2,2)))\n",
        "\n",
        "\n",
        "#flattening\n",
        "classifier.add(Flatten())\n",
        "\n",
        "#fully connected neural Network\n",
        "classifier.add(Dense(256,activation='relu'))\n",
        "\n",
        "# 2 clasifier--> sigmoid activation\n",
        "#more that 2 clasifier-->  softmax activation code\n",
        "classifier.add(Dense(OutputNeurons,activation='softmax'))\n",
        "\n",
        "#compling the CNN\n",
        "# categorical_crossentropy = measure of performance, error:loss(reduce the loss)/accuracy(increase the accuracy)\n",
        "classifier.compile(loss='categorical_crossentropy',optimizer='rmsprop',metrics=[\"accuracy\"])\n",
        "#optional: optimizer='adam'"
      ]
    },
    {
      "cell_type": "code",
      "execution_count": null,
      "metadata": {
        "id": "M4U8zJQDP-9S",
        "colab": {
          "base_uri": "https://localhost:8080/"
        },
        "outputId": "72256f57-3caa-4166-fd64-f4acb378ccd6"
      },
      "outputs": [
        {
          "output_type": "stream",
          "name": "stdout",
          "text": [
            "Model: \"sequential_10\"\n",
            "_________________________________________________________________\n",
            " Layer (type)                Output Shape              Param #   \n",
            "=================================================================\n",
            " conv2d_47 (Conv2D)          (None, 126, 126, 100)     2800      \n",
            "                                                                 \n",
            " max_pooling2d_44 (MaxPoolin  (None, 63, 63, 100)      0         \n",
            " g2D)                                                            \n",
            "                                                                 \n",
            " conv2d_48 (Conv2D)          (None, 61, 61, 200)       180200    \n",
            "                                                                 \n",
            " max_pooling2d_45 (MaxPoolin  (None, 30, 30, 200)      0         \n",
            " g2D)                                                            \n",
            "                                                                 \n",
            " conv2d_49 (Conv2D)          (None, 28, 28, 300)       540300    \n",
            "                                                                 \n",
            " max_pooling2d_46 (MaxPoolin  (None, 14, 14, 300)      0         \n",
            " g2D)                                                            \n",
            "                                                                 \n",
            " conv2d_50 (Conv2D)          (None, 12, 12, 200)       540200    \n",
            "                                                                 \n",
            " max_pooling2d_47 (MaxPoolin  (None, 6, 6, 200)        0         \n",
            " g2D)                                                            \n",
            "                                                                 \n",
            " conv2d_51 (Conv2D)          (None, 4, 4, 100)         180100    \n",
            "                                                                 \n",
            " max_pooling2d_48 (MaxPoolin  (None, 2, 2, 100)        0         \n",
            " g2D)                                                            \n",
            "                                                                 \n",
            " flatten_7 (Flatten)         (None, 400)               0         \n",
            "                                                                 \n",
            " dense_14 (Dense)            (None, 256)               102656    \n",
            "                                                                 \n",
            " dense_15 (Dense)            (None, 3)                 771       \n",
            "                                                                 \n",
            "=================================================================\n",
            "Total params: 1,547,027\n",
            "Trainable params: 1,547,027\n",
            "Non-trainable params: 0\n",
            "_________________________________________________________________\n"
          ]
        }
      ],
      "source": [
        "classifier.summary()"
      ]
    },
    {
      "cell_type": "code",
      "execution_count": null,
      "metadata": {
        "id": "KJDsErZMQwdR",
        "colab": {
          "base_uri": "https://localhost:8080/"
        },
        "outputId": "87aad1a9-0c2f-46d2-efc3-6820117bac41"
      },
      "outputs": [
        {
          "output_type": "stream",
          "name": "stderr",
          "text": [
            "/usr/local/lib/python3.7/dist-packages/ipykernel_launcher.py:12: UserWarning: `Model.fit_generator` is deprecated and will be removed in a future version. Please use `Model.fit`, which supports generators.\n",
            "  if sys.path[0] == '':\n"
          ]
        },
        {
          "output_type": "stream",
          "name": "stdout",
          "text": [
            "Epoch 1/30\n",
            "42/42 [==============================] - 137s 3s/step - loss: 0.9208 - accuracy: 0.5858 - val_loss: 0.8217 - val_accuracy: 0.7515\n",
            "Epoch 2/30\n",
            "42/42 [==============================] - 136s 3s/step - loss: 0.3714 - accuracy: 0.8652 - val_loss: 0.2089 - val_accuracy: 0.9212\n",
            "Epoch 3/30\n",
            "42/42 [==============================] - 136s 3s/step - loss: 0.2856 - accuracy: 0.8863 - val_loss: 0.1022 - val_accuracy: 0.9515\n",
            "Epoch 4/30\n",
            "42/42 [==============================] - 135s 3s/step - loss: 0.2202 - accuracy: 0.9224 - val_loss: 0.0650 - val_accuracy: 0.9758\n",
            "Epoch 5/30\n",
            "42/42 [==============================] - 135s 3s/step - loss: 0.1876 - accuracy: 0.9405 - val_loss: 0.0550 - val_accuracy: 0.9879\n",
            "Epoch 6/30\n",
            "42/42 [==============================] - 136s 3s/step - loss: 0.1235 - accuracy: 0.9601 - val_loss: 0.1258 - val_accuracy: 0.9576\n",
            "Epoch 7/30\n",
            "42/42 [==============================] - 136s 3s/step - loss: 0.1175 - accuracy: 0.9563 - val_loss: 0.0488 - val_accuracy: 0.9758\n",
            "Epoch 8/30\n",
            "42/42 [==============================] - 135s 3s/step - loss: 0.0984 - accuracy: 0.9744 - val_loss: 0.1026 - val_accuracy: 0.9697\n",
            "Epoch 9/30\n",
            "42/42 [==============================] - 135s 3s/step - loss: 0.1315 - accuracy: 0.9661 - val_loss: 0.0195 - val_accuracy: 0.9939\n",
            "Epoch 10/30\n",
            "42/42 [==============================] - 135s 3s/step - loss: 0.1006 - accuracy: 0.9661 - val_loss: 0.0641 - val_accuracy: 0.9818\n",
            "Epoch 11/30\n",
            "42/42 [==============================] - 138s 3s/step - loss: 0.0391 - accuracy: 0.9902 - val_loss: 0.0791 - val_accuracy: 0.9818\n",
            "Epoch 12/30\n",
            "42/42 [==============================] - 136s 3s/step - loss: 0.0775 - accuracy: 0.9752 - val_loss: 0.4451 - val_accuracy: 0.9273\n",
            "Epoch 13/30\n",
            "42/42 [==============================] - 137s 3s/step - loss: 0.0804 - accuracy: 0.9797 - val_loss: 0.0493 - val_accuracy: 0.9818\n",
            "Epoch 14/30\n",
            "42/42 [==============================] - 137s 3s/step - loss: 0.0474 - accuracy: 0.9880 - val_loss: 0.1056 - val_accuracy: 0.9818\n",
            "Epoch 15/30\n",
            "42/42 [==============================] - 140s 3s/step - loss: 0.0309 - accuracy: 0.9902 - val_loss: 0.1381 - val_accuracy: 0.9758\n",
            "Epoch 16/30\n",
            "42/42 [==============================] - 138s 3s/step - loss: 0.0661 - accuracy: 0.9849 - val_loss: 0.0354 - val_accuracy: 0.9818\n",
            "Epoch 17/30\n",
            "42/42 [==============================] - 136s 3s/step - loss: 0.0666 - accuracy: 0.9842 - val_loss: 0.0146 - val_accuracy: 0.9939\n",
            "Epoch 18/30\n",
            "42/42 [==============================] - 136s 3s/step - loss: 0.1092 - accuracy: 0.9804 - val_loss: 0.1952 - val_accuracy: 0.9636\n",
            "Epoch 19/30\n",
            "42/42 [==============================] - 136s 3s/step - loss: 0.0238 - accuracy: 0.9917 - val_loss: 0.0314 - val_accuracy: 0.9939\n",
            "Epoch 20/30\n",
            "42/42 [==============================] - 136s 3s/step - loss: 0.0516 - accuracy: 0.9849 - val_loss: 0.0606 - val_accuracy: 0.9818\n",
            "Epoch 21/30\n",
            "42/42 [==============================] - 136s 3s/step - loss: 0.0430 - accuracy: 0.9880 - val_loss: 0.0119 - val_accuracy: 0.9939\n",
            "Epoch 22/30\n",
            "42/42 [==============================] - 136s 3s/step - loss: 0.0341 - accuracy: 0.9940 - val_loss: 0.1524 - val_accuracy: 0.9636\n",
            "Epoch 23/30\n",
            "42/42 [==============================] - 136s 3s/step - loss: 0.0319 - accuracy: 0.9887 - val_loss: 0.0423 - val_accuracy: 0.9697\n",
            "Epoch 24/30\n",
            "42/42 [==============================] - 136s 3s/step - loss: 0.0949 - accuracy: 0.9857 - val_loss: 0.0467 - val_accuracy: 0.9818\n",
            "Epoch 25/30\n",
            "42/42 [==============================] - 136s 3s/step - loss: 0.0235 - accuracy: 0.9955 - val_loss: 0.0674 - val_accuracy: 0.9879\n",
            "Epoch 26/30\n",
            "42/42 [==============================] - 136s 3s/step - loss: 0.0074 - accuracy: 0.9970 - val_loss: 0.0511 - val_accuracy: 0.9939\n",
            "Epoch 27/30\n",
            "42/42 [==============================] - 136s 3s/step - loss: 0.0490 - accuracy: 0.9932 - val_loss: 0.0466 - val_accuracy: 0.9879\n",
            "Epoch 28/30\n",
            "42/42 [==============================] - 136s 3s/step - loss: 0.0241 - accuracy: 0.9955 - val_loss: 0.0193 - val_accuracy: 0.9879\n",
            "Epoch 29/30\n",
            "42/42 [==============================] - 136s 3s/step - loss: 0.0385 - accuracy: 0.9940 - val_loss: 2.3997e-04 - val_accuracy: 1.0000\n",
            "Epoch 30/30\n",
            "42/42 [==============================] - 136s 3s/step - loss: 0.0294 - accuracy: 0.9962 - val_loss: 0.0411 - val_accuracy: 0.9758\n",
            "Total Time Taken  70 Minutes ####\n"
          ]
        }
      ],
      "source": [
        "#measuring the time taken by model to train\n",
        "import time\n",
        "StartTime=time.time()\n",
        "\n",
        "#starting modeltraing\n",
        "model_history=classifier.fit_generator(\n",
        "                                       training_set,\n",
        "                                       steps_per_epoch=len(training_set),\n",
        "                                       epochs=30,\n",
        "                                       validation_data=valid_set,\n",
        "                                       validation_steps=len(valid_set),\n",
        "                                       verbose=1)\n",
        "\n",
        "EndTime=time.time()\n",
        "print(\"Total Time Taken \",round((EndTime-StartTime)/60),'Minutes ####')"
      ]
    },
    {
      "cell_type": "code",
      "execution_count": null,
      "metadata": {
        "id": "HmrFYUBYTolR"
      },
      "outputs": [],
      "source": [
        "accuracy=model_history.history['accuracy']\n",
        "val_accuracy=model_history.history['val_accuracy']\n",
        "\n",
        "loss=model_history.history['loss']\n",
        "val_loss=model_history.history['val_loss']"
      ]
    },
    {
      "cell_type": "code",
      "execution_count": null,
      "metadata": {
        "id": "Ver7tRkqUb69",
        "colab": {
          "base_uri": "https://localhost:8080/",
          "height": 311
        },
        "outputId": "8d08f6e1-7be7-4861-8ea2-1abe145b7fab"
      },
      "outputs": [
        {
          "output_type": "display_data",
          "data": {
            "text/plain": [
              "<Figure size 1080x720 with 2 Axes>"
            ],
            "image/png": "[encoded data removed]"
          },
          "metadata": {
            "needs_background": "light"
          }
        }
      ],
      "source": [
        "plt.figure(figsize=(15,10))\n",
        "plt.subplot(2,2,1)\n",
        "plt.plot(accuracy,label=\"Training accuracy\")\n",
        "plt.plot(val_accuracy,label=\"Validation accuracy\")\n",
        "plt.legend()\n",
        "plt.title(\"Training vs validation accuracy\")\n",
        "\n",
        "plt.subplot(2,2,2)\n",
        "plt.plot(loss,label=\"Training loss\")\n",
        "plt.plot(val_loss,label=\"Validation loss\")\n",
        "plt.legend()\n",
        "plt.title(\"training vs validation loss\")\n",
        "plt.show()\n",
        "\n"
      ]
    },
    {
      "cell_type": "code",
      "execution_count": null,
      "metadata": {
        "id": "VHvB85cgaEV0"
      },
      "outputs": [],
      "source": [
        "#Saving the model\n",
        "classifier.save(\"/content/drive/MyDrive/caltech101-airplanes-motorbikes-schooners/ImageClassifier.pk1\")"
      ]
    },
    {
      "cell_type": "code",
      "execution_count": null,
      "metadata": {
        "id": "sv4tgoPaaZwR",
        "colab": {
          "base_uri": "https://localhost:8080/"
        },
        "outputId": "a0cbcd65-3d8a-4975-aa8d-f677d8d4f4a7"
      },
      "outputs": [
        {
          "output_type": "execute_result",
          "data": {
            "text/plain": [
              "dict_items([('Motorbikes', 0), ('airplanes', 1), ('schooner', 2)])"
            ]
          },
          "metadata": {},
          "execution_count": 85
        }
      ],
      "source": [
        "training_set.class_indices.items()"
      ]
    },
    {
      "cell_type": "markdown",
      "metadata": {
        "id": "Eq-wLiFhFTZv"
      },
      "source": [
        "###Testing the model"
      ]
    },
    {
      "cell_type": "code",
      "execution_count": null,
      "metadata": {
        "id": "dACRQ6B9a4QQ"
      },
      "outputs": [],
      "source": [
        "#Making_single_predictions\n",
        "from tensorflow.keras.utils import load_img,img_to_array\n",
        "\n",
        "testImage=\"/content/drive/MyDrive/caltech101-airplanes-motorbikes-schooners/SplitData/test/airplanes/image_0013.jpg\"\n",
        "test_image=load_img(testImage,target_size=(128,128))\n",
        "test_image=img_to_array(test_image)\n",
        "test_image=np.expand_dims(test_image,axis=0)\n",
        "result=classifier.predict(test_image,verbose=0)\n",
        "img=cv2.imread(testImage)\n",
        "\n",
        "plt.imshow(img)\n",
        "plt.title('picture')\n",
        "plt.show()\n",
        "print(\"_\"*50)\n",
        "print('Prediction is: ',Resultmap[np.argmax(result)])"
      ]
    },
    {
      "cell_type": "code",
      "execution_count": null,
      "metadata": {
        "id": "FfgtsSPEeLsS"
      },
      "outputs": [],
      "source": [
        "#Making_single_predictions\n",
        "from tensorflow.keras.utils import load_img,img_to_array\n",
        "\n",
        "testImage=\"/content/drive/MyDrive/caltech101-airplanes-motorbikes-schooners/SplitData/test/schooner/image_0024.jpg\"\n",
        "test_image=load_img(testImage,target_size=(128,128))\n",
        "test_image=img_to_array(test_image)\n",
        "test_image=np.expand_dims(test_image,axis=0)\n",
        "result=classifier.predict(test_image,verbose=0)\n",
        "img=cv2.imread(testImage)\n",
        "\n",
        "plt.imshow(img)\n",
        "plt.title('picture')\n",
        "plt.show()\n",
        "print(\"_\"*10)\n",
        "print('Prediction is: ',Resultmap[np.argmax(result)])"
      ]
    }
  ],
  "metadata": {
    "colab": {
      "collapsed_sections": [],
      "provenance": [],
      "mount_file_id": "1HlLYCHrGjhlXMRHeZIgBc_f9HRBOsnxD",
      "authorship_tag": "ABX9TyNhfOLPd7ybekdBBA1E0mkd",
      "include_colab_link": true
    },
    "kernelspec": {
      "display_name": "Python 3",
      "name": "python3"
    },
    "language_info": {
      "name": "python"
    }
  },
  "nbformat": 4,
  "nbformat_minor": 0
}